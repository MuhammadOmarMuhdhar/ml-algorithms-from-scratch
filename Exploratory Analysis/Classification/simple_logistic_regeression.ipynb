{
 "cells": [
  {
   "cell_type": "markdown",
   "metadata": {},
   "source": [
    "### Logistic regression\n",
    "\n",
    "Logistic regression is a statistical method used for predicting outcomes that are categorical, such as yes/no or 0/1. In many situations, using linear regression, which predicts continuous values, may not be appropriate. For example, if you’re predicting whether someone will make a purchase, a linear regression model might give a prediction like 1.3, which doesn’t make sense when you need a clear yes or no answer.\n",
    "\n",
    "Logistic regression is designed specifically for such classification problems. It belongs to a family of models called Generalized Linear Models (GLM). GLM is a flexible set of models that generalize linear regression to handle different types of outcomes, such as binary outcomes in logistic regression. The key concept behind logistic regression is that instead of directly predicting 0 or 1, it predicts something called the log-odds of the outcome. Log-odds are a way to express the likelihood of something happening using a linear relationship. Logistic regression assumes that the log-odds of the outcome are a linear combination of the independent variables, meaning the relationship between the independent variables and the log-odds is like a straight line (similar to how linear regression works for continuous data). \n",
    "\n",
    "However, since we want to predict probabilities (which must fall between 0 and 1), the log-odds are transformed into probabilities using the logistic function, also called the S-curve. This function smoothly converts the linear log-odds into probabilities that stay between 0 and 1, which makes it perfect for classification\n",
    "\n",
    "#### How it works\n",
    "\n",
    "The logistic regression model is used to predict the log-odds of the dependent variable as a linear combination of independent variables. This relationship is expressed as follows:\n",
    "\n",
    "$\n",
    "{log}(\\frac{p(x)}{1-p(x)}) = \\beta_0 + \\beta_1x\n",
    "$\n",
    "\n",
    "Where:\n",
    "- $\\frac{p(x)}{1-p(x)}$: This is the ratio of the probability of the event happening ($Y=1$) to the probability of the event not happening ($Y=0$)\n",
    "\n",
    "To interpret the result in terms of probabilities (since the log-odds are not probabilities), we use the logistic function to transform the log-odds back into a probability:\n",
    "\n",
    "$\n",
    "p(x) = \\frac{e^{\\beta_0 + \\beta_1x}}{1 + e^{\\beta_0 + \\beta_1x}}\n",
    "$\n",
    "\n",
    "This formula converts the linear combination of $x$ into a probability that always lies between 0 and 1:\n",
    "- as ${\\beta_0 + \\beta_1x}$ becomes very large (i.e., the log-odds increase), $p(x)$ approaches 1, meaning the event is almost certain to happen.\n",
    "- as ${\\beta_0 + \\beta_1x}$ becomes very small (i.e., the log-odds increase), $p(x)$ approaches 0, meaning the event is almost certain to not happen."
   ]
  },
  {
   "cell_type": "code",
   "execution_count": 73,
   "metadata": {},
   "outputs": [
    {
     "data": {
      "image/png": "[encoded data removed]",
      "text/plain": [
       "<Figure size 640x480 with 1 Axes>"
      ]
     },
     "metadata": {},
     "output_type": "display_data"
    }
   ],
   "source": [
    "import matplotlib.pyplot as plt\n",
    "import seaborn as sns\n",
    "\n",
    "df = sns.load_dataset('iris')\n",
    "df = df[df['species'] != 'versicolor']\n",
    "\n",
    "\n",
    "X = df['petal_width']\n",
    "y = df['species']\n",
    "\n",
    "plt.scatter(x=X, y=y)\n",
    "plt.xlabel('petal_width')\n",
    "plt.ylabel('Species')\n",
    "plt.show()"
   ]
  },
  {
   "cell_type": "markdown",
   "metadata": {},
   "source": [
    "#### Maximum Likelihood Estimation\n",
    "\n",
    "Linear regression uses the least sqaures method to calcualye the best fit line for a certain set of data points. AS we know in logistic regression with transform the y axix into log-odds, this transformation pushes the raw data to positive and nefative infinity, making it impossible to use least sqaures to find the best fitting line. Instead we use maximum likelhood. Maximum likehood works by projecting original datpoints onto a candidate line, giving each sample a candidate log vlaue. "
   ]
  },
  {
   "cell_type": "markdown",
   "metadata": {},
   "source": []
  }
 ],
 "metadata": {
  "kernelspec": {
   "display_name": "base",
   "language": "python",
   "name": "python3"
  },
  "language_info": {
   "codemirror_mode": {
    "name": "ipython",
    "version": 3
   },
   "file_extension": ".py",
   "mimetype": "text/x-python",
   "name": "python",
   "nbconvert_exporter": "python",
   "pygments_lexer": "ipython3",
   "version": "3.11.7"
  }
 },
 "nbformat": 4,
 "nbformat_minor": 2
}
