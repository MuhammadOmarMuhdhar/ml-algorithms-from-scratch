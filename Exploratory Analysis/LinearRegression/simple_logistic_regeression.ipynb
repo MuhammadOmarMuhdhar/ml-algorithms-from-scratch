{
 "cells": [
  {
   "cell_type": "markdown",
   "metadata": {},
   "source": [
    "### Classification\n",
    "\n",
    "Linear regressions assume that the predicted value is quantitative, meaning continuous. However there is times that the predicted value is qualtive, or categorical. In this situation a linear regression algorithimn might not be optimal to predict values. For example if you have 2 values in your predicted categories, a linear regression might give you a predicted value of 1.3. In some situations this is not an optimal prediction as you need a clear 0 or 1 value. \n",
    "\n",
    "A logistic regression is a method of classification that works well in this type of situation. "
   ]
  }
 ],
 "metadata": {
  "language_info": {
   "name": "python"
  }
 },
 "nbformat": 4,
 "nbformat_minor": 2
}
