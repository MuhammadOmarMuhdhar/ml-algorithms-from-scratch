{
 "cells": [
  {
   "cell_type": "markdown",
   "metadata": {},
   "source": [
    "### Simple Linear Regression\n",
    "\n",
    "Simple Linear Regression is a statistical method used to model the relationship between a single predictor (independent variable, x) and a quantitative response (dependent variable, y). The goal is to find the best-fitting line that represents a linear relationship between these two variables. \n",
    "\n",
    "The following code outlines how to do so. "
   ]
  },
  {
   "cell_type": "code",
   "execution_count": 179,
   "metadata": {},
   "outputs": [
    {
     "data": {
      "text/html": [
       "<div>\n",
       "<style scoped>\n",
       "    .dataframe tbody tr th:only-of-type {\n",
       "        vertical-align: middle;\n",
       "    }\n",
       "\n",
       "    .dataframe tbody tr th {\n",
       "        vertical-align: top;\n",
       "    }\n",
       "\n",
       "    .dataframe thead th {\n",
       "        text-align: right;\n",
       "    }\n",
       "</style>\n",
       "<table border=\"1\" class=\"dataframe\">\n",
       "  <thead>\n",
       "    <tr style=\"text-align: right;\">\n",
       "      <th></th>\n",
       "      <th>CRIM</th>\n",
       "      <th>ZN</th>\n",
       "      <th>INDUS</th>\n",
       "      <th>CHAS</th>\n",
       "      <th>NOX</th>\n",
       "      <th>RM</th>\n",
       "      <th>AGE</th>\n",
       "      <th>DIS</th>\n",
       "      <th>RAD</th>\n",
       "      <th>TAX</th>\n",
       "      <th>PTRATIO</th>\n",
       "      <th>B</th>\n",
       "      <th>LSTAT</th>\n",
       "      <th>MEDV</th>\n",
       "    </tr>\n",
       "  </thead>\n",
       "  <tbody>\n",
       "    <tr>\n",
       "      <th>412</th>\n",
       "      <td>18.81100</td>\n",
       "      <td>0.0</td>\n",
       "      <td>18.10</td>\n",
       "      <td>0.0</td>\n",
       "      <td>0.597</td>\n",
       "      <td>4.628</td>\n",
       "      <td>100.0</td>\n",
       "      <td>1.5539</td>\n",
       "      <td>24</td>\n",
       "      <td>666</td>\n",
       "      <td>20.2</td>\n",
       "      <td>28.79</td>\n",
       "      <td>34.37</td>\n",
       "      <td>17.9</td>\n",
       "    </tr>\n",
       "    <tr>\n",
       "      <th>104</th>\n",
       "      <td>0.13960</td>\n",
       "      <td>0.0</td>\n",
       "      <td>8.56</td>\n",
       "      <td>0.0</td>\n",
       "      <td>0.520</td>\n",
       "      <td>6.167</td>\n",
       "      <td>90.0</td>\n",
       "      <td>2.4210</td>\n",
       "      <td>5</td>\n",
       "      <td>384</td>\n",
       "      <td>20.9</td>\n",
       "      <td>392.69</td>\n",
       "      <td>12.33</td>\n",
       "      <td>20.1</td>\n",
       "    </tr>\n",
       "    <tr>\n",
       "      <th>413</th>\n",
       "      <td>28.65580</td>\n",
       "      <td>0.0</td>\n",
       "      <td>18.10</td>\n",
       "      <td>0.0</td>\n",
       "      <td>0.597</td>\n",
       "      <td>5.155</td>\n",
       "      <td>100.0</td>\n",
       "      <td>1.5894</td>\n",
       "      <td>24</td>\n",
       "      <td>666</td>\n",
       "      <td>20.2</td>\n",
       "      <td>210.97</td>\n",
       "      <td>20.08</td>\n",
       "      <td>16.3</td>\n",
       "    </tr>\n",
       "    <tr>\n",
       "      <th>143</th>\n",
       "      <td>4.09740</td>\n",
       "      <td>0.0</td>\n",
       "      <td>19.58</td>\n",
       "      <td>0.0</td>\n",
       "      <td>0.871</td>\n",
       "      <td>5.468</td>\n",
       "      <td>100.0</td>\n",
       "      <td>1.4118</td>\n",
       "      <td>5</td>\n",
       "      <td>403</td>\n",
       "      <td>14.7</td>\n",
       "      <td>396.90</td>\n",
       "      <td>26.42</td>\n",
       "      <td>15.6</td>\n",
       "    </tr>\n",
       "    <tr>\n",
       "      <th>338</th>\n",
       "      <td>0.03306</td>\n",
       "      <td>0.0</td>\n",
       "      <td>5.19</td>\n",
       "      <td>0.0</td>\n",
       "      <td>0.515</td>\n",
       "      <td>6.059</td>\n",
       "      <td>37.3</td>\n",
       "      <td>4.8122</td>\n",
       "      <td>5</td>\n",
       "      <td>224</td>\n",
       "      <td>20.2</td>\n",
       "      <td>396.14</td>\n",
       "      <td>8.51</td>\n",
       "      <td>20.6</td>\n",
       "    </tr>\n",
       "    <tr>\n",
       "      <th>358</th>\n",
       "      <td>5.20177</td>\n",
       "      <td>0.0</td>\n",
       "      <td>18.10</td>\n",
       "      <td>1.0</td>\n",
       "      <td>0.770</td>\n",
       "      <td>6.127</td>\n",
       "      <td>83.4</td>\n",
       "      <td>2.7227</td>\n",
       "      <td>24</td>\n",
       "      <td>666</td>\n",
       "      <td>20.2</td>\n",
       "      <td>395.43</td>\n",
       "      <td>11.48</td>\n",
       "      <td>22.7</td>\n",
       "    </tr>\n",
       "    <tr>\n",
       "      <th>298</th>\n",
       "      <td>0.06466</td>\n",
       "      <td>70.0</td>\n",
       "      <td>2.24</td>\n",
       "      <td>0.0</td>\n",
       "      <td>0.400</td>\n",
       "      <td>6.345</td>\n",
       "      <td>20.1</td>\n",
       "      <td>7.8278</td>\n",
       "      <td>5</td>\n",
       "      <td>358</td>\n",
       "      <td>14.8</td>\n",
       "      <td>368.24</td>\n",
       "      <td>4.97</td>\n",
       "      <td>22.5</td>\n",
       "    </tr>\n",
       "    <tr>\n",
       "      <th>217</th>\n",
       "      <td>0.07013</td>\n",
       "      <td>0.0</td>\n",
       "      <td>13.89</td>\n",
       "      <td>0.0</td>\n",
       "      <td>0.550</td>\n",
       "      <td>6.642</td>\n",
       "      <td>85.1</td>\n",
       "      <td>3.4211</td>\n",
       "      <td>5</td>\n",
       "      <td>276</td>\n",
       "      <td>16.4</td>\n",
       "      <td>392.78</td>\n",
       "      <td>9.69</td>\n",
       "      <td>28.7</td>\n",
       "    </tr>\n",
       "    <tr>\n",
       "      <th>325</th>\n",
       "      <td>0.19186</td>\n",
       "      <td>0.0</td>\n",
       "      <td>7.38</td>\n",
       "      <td>0.0</td>\n",
       "      <td>0.493</td>\n",
       "      <td>6.431</td>\n",
       "      <td>14.7</td>\n",
       "      <td>5.4159</td>\n",
       "      <td>5</td>\n",
       "      <td>287</td>\n",
       "      <td>19.6</td>\n",
       "      <td>393.68</td>\n",
       "      <td>5.08</td>\n",
       "      <td>24.6</td>\n",
       "    </tr>\n",
       "    <tr>\n",
       "      <th>180</th>\n",
       "      <td>0.06588</td>\n",
       "      <td>0.0</td>\n",
       "      <td>2.46</td>\n",
       "      <td>0.0</td>\n",
       "      <td>0.488</td>\n",
       "      <td>7.765</td>\n",
       "      <td>83.3</td>\n",
       "      <td>2.7410</td>\n",
       "      <td>3</td>\n",
       "      <td>193</td>\n",
       "      <td>17.8</td>\n",
       "      <td>395.56</td>\n",
       "      <td>7.56</td>\n",
       "      <td>39.8</td>\n",
       "    </tr>\n",
       "  </tbody>\n",
       "</table>\n",
       "</div>"
      ],
      "text/plain": [
       "         CRIM    ZN  INDUS  CHAS    NOX     RM    AGE     DIS  RAD  TAX  \\\n",
       "412  18.81100   0.0  18.10   0.0  0.597  4.628  100.0  1.5539   24  666   \n",
       "104   0.13960   0.0   8.56   0.0  0.520  6.167   90.0  2.4210    5  384   \n",
       "413  28.65580   0.0  18.10   0.0  0.597  5.155  100.0  1.5894   24  666   \n",
       "143   4.09740   0.0  19.58   0.0  0.871  5.468  100.0  1.4118    5  403   \n",
       "338   0.03306   0.0   5.19   0.0  0.515  6.059   37.3  4.8122    5  224   \n",
       "358   5.20177   0.0  18.10   1.0  0.770  6.127   83.4  2.7227   24  666   \n",
       "298   0.06466  70.0   2.24   0.0  0.400  6.345   20.1  7.8278    5  358   \n",
       "217   0.07013   0.0  13.89   0.0  0.550  6.642   85.1  3.4211    5  276   \n",
       "325   0.19186   0.0   7.38   0.0  0.493  6.431   14.7  5.4159    5  287   \n",
       "180   0.06588   0.0   2.46   0.0  0.488  7.765   83.3  2.7410    3  193   \n",
       "\n",
       "     PTRATIO       B  LSTAT  MEDV  \n",
       "412     20.2   28.79  34.37  17.9  \n",
       "104     20.9  392.69  12.33  20.1  \n",
       "413     20.2  210.97  20.08  16.3  \n",
       "143     14.7  396.90  26.42  15.6  \n",
       "338     20.2  396.14   8.51  20.6  \n",
       "358     20.2  395.43  11.48  22.7  \n",
       "298     14.8  368.24   4.97  22.5  \n",
       "217     16.4  392.78   9.69  28.7  \n",
       "325     19.6  393.68   5.08  24.6  \n",
       "180     17.8  395.56   7.56  39.8  "
      ]
     },
     "execution_count": 179,
     "metadata": {},
     "output_type": "execute_result"
    }
   ],
   "source": [
    "import pandas as pd \n",
    "\n",
    "df = pd.read_csv('/Users/muhammadmuhdhar/Desktop/Repo/ml-algorithms-from-scratch/HousingData.csv')\n",
    "df.sample(10)"
   ]
  },
  {
   "cell_type": "code",
   "execution_count": 180,
   "metadata": {},
   "outputs": [
    {
     "data": {
      "text/plain": [
       "<function matplotlib.pyplot.show(close=None, block=None)>"
      ]
     },
     "execution_count": 180,
     "metadata": {},
     "output_type": "execute_result"
    },
    {
     "data": {
      "image/png": "[encoded data removed]",
      "text/plain": [
       "<Figure size 640x480 with 1 Axes>"
      ]
     },
     "metadata": {},
     "output_type": "display_data"
    }
   ],
   "source": [
    "# plotting variables with a linear relationship\n",
    "\n",
    "import matplotlib.pyplot as plt\n",
    "\n",
    "plt.scatter(df.LSTAT, df.MEDV)\n",
    "plt.title(\"lower-status population. vs Home Value\")\n",
    "plt.xlabel('Percentage of lower-status population.')\n",
    "plt.ylabel(\"Median Value in $1000s\")\n",
    "plt.show"
   ]
  },
  {
   "cell_type": "code",
   "execution_count": 182,
   "metadata": {},
   "outputs": [],
   "source": [
    "X = df['LSTAT'] # Indepedent Variable\n",
    "y = df['MEDV'] # Depedent Variable"
   ]
  },
  {
   "cell_type": "markdown",
   "metadata": {},
   "source": [
    "### Least Squares Method\n",
    "\n",
    "The relationship between $x$ and $y$ is modeled by the following linear equation:\n",
    "\n",
    "$\\hat{y} = {\\beta_0} + {\\beta_1}{x}$ \n",
    "\n",
    "How the Formula Works:\n",
    "\n",
    "1. ${\\beta_0}$: This is the *intercept* of the regression line, which represents the predicted value of $y$ when the independent variable $x$ is zero. In the context of the regression line, it shows where the line crosses the y-axis.\n",
    "\n",
    "2. ${\\beta_1}$ : This is the *slope* of the regression line. It indicates the change in the predicted value of $y$ for a one-unit change in $x$. The slope determines the steepness and direction of the line\n",
    "\n",
    "\n",
    "The main objective of simple linear regression is to find the line that best fits the data points. This is done using the *least squares method*, which minimizes the sum of the squared differences between the observed values and the predicted values. These differences are known as *residuals*. The formula can be broken down into these steps:\n",
    "\n",
    "1. **Calculate the Slope $\\beta_1$:**\n",
    "   \n",
    "   - The formula for the slope $\\beta_1$ is:\n",
    "     \n",
    "     $\n",
    "     \\beta_1 = \\frac{\\sum_{i=1}^{n} (x_i - \\bar{x})(y_i - \\bar{y})}{\\sum_{i=1}^{n} (x_i - \\bar{x})^2}\n",
    "     $\n",
    "     - **Numerator:** Measures how the deviations of $x$ from its mean $\\bar{x}$ correlate with the deviations of $y$ from its mean $\\bar{y}$. This is the *covariance* between $x$ and $y$.\n",
    "     - **Denominator:** Measures the total variation in $x$ values, known as the *variance* of $x$. It captures how spread out the $x$ values are.\n",
    "\n",
    "\n"
   ]
  },
  {
   "cell_type": "code",
   "execution_count": 183,
   "metadata": {},
   "outputs": [
    {
     "data": {
      "text/plain": [
       "-0.9468591342663238"
      ]
     },
     "execution_count": 183,
     "metadata": {},
     "output_type": "execute_result"
    }
   ],
   "source": [
    "import numpy as np\n",
    "X_mean = np.mean(X)\n",
    "y_mean = np.mean(y)\n",
    "\n",
    "numerator = np.sum((X - X_mean) * (y - y_mean))\n",
    "denominator = np.sum((X - X_mean) ** 2)\n",
    "\n",
    "beta_1 = numerator / denominator\n",
    "\n",
    "beta_1 # slope of best fit line "
   ]
  },
  {
   "cell_type": "markdown",
   "metadata": {},
   "source": [
    "2. **Calculate the Intercept $\\beta_0$:**\n",
    "   - Once the slope $\\beta_1$ is found, the intercept $\\beta_0$ is calculated using:\n",
    "    \n",
    "     $\n",
    "     \\beta_0 = \\bar{y} - \\beta_1 \\bar{x}\n",
    "     $\n"
   ]
  },
  {
   "cell_type": "code",
   "execution_count": 184,
   "metadata": {},
   "outputs": [
    {
     "data": {
      "text/plain": [
       "34.57252935296994"
      ]
     },
     "execution_count": 184,
     "metadata": {},
     "output_type": "execute_result"
    }
   ],
   "source": [
    "beta_0 = y_mean - beta_1 * X_mean\n",
    "beta_0"
   ]
  },
  {
   "cell_type": "markdown",
   "metadata": {},
   "source": [
    "Now that we have the two beta coefficients, we can use them in the formula to predict the value of $\\hat{y}$:\n",
    "\n",
    "$\\hat{y} = {\\beta_0} + {\\beta_1}{x}$ "
   ]
  },
  {
   "cell_type": "code",
   "execution_count": 185,
   "metadata": {},
   "outputs": [
    {
     "data": {
      "text/plain": [
       "0      29.857171\n",
       "1      25.918237\n",
       "2      30.756687\n",
       "3      31.788763\n",
       "4            NaN\n",
       "         ...    \n",
       "501          NaN\n",
       "502    25.975048\n",
       "503    29.232244\n",
       "504    28.436882\n",
       "505    27.111279\n",
       "Name: LSTAT, Length: 506, dtype: float64"
      ]
     },
     "execution_count": 185,
     "metadata": {},
     "output_type": "execute_result"
    }
   ],
   "source": [
    "y_pred = beta_0 + beta_1 * X\n",
    "\n",
    "y_pred"
   ]
  },
  {
   "cell_type": "code",
   "execution_count": 186,
   "metadata": {},
   "outputs": [
    {
     "data": {
      "image/png": "[encoded data removed]",
      "text/plain": [
       "<Figure size 640x480 with 1 Axes>"
      ]
     },
     "metadata": {},
     "output_type": "display_data"
    }
   ],
   "source": [
    "plt.scatter(X, y, label='Actual data points')\n",
    "plt.plot(X, y_pred, color='red', label='Regression line')\n",
    "plt.title('Linear Regression Fit')\n",
    "plt.legend()\n",
    "plt.show()"
   ]
  },
  {
   "cell_type": "markdown",
   "metadata": {},
   "source": [
    "### Sum of Squares\n",
    "\n",
    "Sum of sqaures is a measure of dispersion, it measures how a data set varies around a central number (such as the mean).\n",
    "\n",
    "**Explained Sum of Sqaures (ESS)**\n",
    "\n",
    "The ESS measures the variation in the dependent variable that is explained by the model. It tells you how much of the total variation is captured by your model.\n",
    "\n",
    "The formula is:\n",
    "\n",
    "$ESS = \\sum_{i=1}^{n}(\\hat{y_i}  -  \\bar{y})^2$\n",
    "\n",
    "The ESS is always non-negative and ranges from 0 to the total variation. A higher ESS indicates that the model explains more of the variation in the data.\n",
    "\n",
    "**Residul Sum of Squares (RSS)**\n",
    "\n",
    "RSS evaluates the model's performance by measuring the discrepancy between the observed values and the predicted values. It is calculated as the sum of the squared differences between the actual and predicted values:\n",
    "\n",
    "$RSS = \\sum_{i=1}^{n}({y_i} - \\hat{y_i})^2$\n",
    "\n",
    "A lower RSS suggests a better model fit, while a higher RSS indicates a poor fit. A perfect model fit would result in an RSS of zero.\n",
    "\n",
    "**Total Sum of Squares (TSS)** \n",
    "\n",
    "TSS measures the total variation in the dependent variable. It tells you how much the observed data varies from the mean.\n",
    "\n",
    "$TSS =\\sum_{i=1}^{n}({y_i} - \\bar{y})^2 = ESS + RSS$\n",
    "\n",
    "A higher TSS indicates greater variability in the dependent variable."
   ]
  },
  {
   "cell_type": "code",
   "execution_count": 187,
   "metadata": {},
   "outputs": [
    {
     "data": {
      "text/plain": [
       "22265.757164866634"
      ]
     },
     "execution_count": 187,
     "metadata": {},
     "output_type": "execute_result"
    }
   ],
   "source": [
    "ESS = np.sum((y_pred - np.mean(y)) ** 2)\n",
    "ESS"
   ]
  },
  {
   "cell_type": "code",
   "execution_count": 188,
   "metadata": {},
   "outputs": [
    {
     "data": {
      "image/png": "[encoded data removed]",
      "text/plain": [
       "<Figure size 640x480 with 1 Axes>"
      ]
     },
     "metadata": {},
     "output_type": "display_data"
    }
   ],
   "source": [
    "residuals = y - y_pred\n",
    "\n",
    "plt.scatter(X, residuals, color='purple')\n",
    "plt.axhline(y=0, color='red', linestyle='--')\n",
    "plt.xlabel('x')\n",
    "plt.ylabel('Residuals')\n",
    "plt.title('Residual Plot')\n",
    "plt.show()\n"
   ]
  },
  {
   "cell_type": "code",
   "execution_count": 189,
   "metadata": {},
   "outputs": [
    {
     "data": {
      "text/plain": [
       "18861.21715983771"
      ]
     },
     "execution_count": 189,
     "metadata": {},
     "output_type": "execute_result"
    }
   ],
   "source": [
    "RSS = np.sum((y - y_pred) ** 2)\n",
    "\n",
    "RSS\n"
   ]
  },
  {
   "cell_type": "code",
   "execution_count": 190,
   "metadata": {},
   "outputs": [
    {
     "data": {
      "text/plain": [
       "41126.974324704344"
      ]
     },
     "execution_count": 190,
     "metadata": {},
     "output_type": "execute_result"
    }
   ],
   "source": [
    "TSS = ESS + RSS\n",
    "TSS"
   ]
  },
  {
   "cell_type": "markdown",
   "metadata": {},
   "source": [
    "### R-Squared (Coefficient of Determination)\n",
    "\n",
    "R-Squared, also known as the coefficient of determination, is a statistical measure that indicates the proportion of variance in the dependent variable that is explained by the independent variables in a regression model. In other words, it reflects how well the regression model fits the observed data, or the model's \"goodness of fit.\"\n",
    "\n",
    "It can be calculated as:\n",
    "\n",
    "${R}^2 = 1- \\frac{RSS}{TSS} = \\frac{ESS}{TSS}$\n",
    "\n",
    "A higher R-Squared value (closer to 1) means the model explains a greater portion of the variance, indicating a better fit."
   ]
  },
  {
   "cell_type": "code",
   "execution_count": 191,
   "metadata": {},
   "outputs": [
    {
     "data": {
      "text/plain": [
       "0.5413905965723312"
      ]
     },
     "execution_count": 191,
     "metadata": {},
     "output_type": "execute_result"
    }
   ],
   "source": [
    "r_squared=(ESS / TSS)\n",
    "r_squared"
   ]
  },
  {
   "cell_type": "markdown",
   "metadata": {},
   "source": [
    "### Residual Standard Error (RSE)\n",
    "\n",
    "Residual Standard Error *(RSE)* is a measure of the typical distance between the observed values and the regression line. It gives us an idea of the average error made by the regression model in predicting the response variable.\n",
    "\n",
    "**Formula for RSE**\n",
    "\n",
    "The formula for calculating the RSE is:\n",
    "\n",
    "$\n",
    "{RSE} = \\sqrt{\\frac{\\sum_{i=1}^{n} (y_i - \\hat{y}_i)^2}{n - 2}} = \\sqrt{\\frac{RSS}{n - 2}}\n",
    "$\n",
    "\n",
    "\n",
    "The RSE indicates the typical size of the residuals; the closer it is to 0, the better the model's fit.\n",
    "\n",
    "\n"
   ]
  },
  {
   "cell_type": "code",
   "execution_count": 192,
   "metadata": {},
   "outputs": [
    {
     "data": {
      "text/plain": [
       "6.117438182794569"
      ]
     },
     "execution_count": 192,
     "metadata": {},
     "output_type": "execute_result"
    }
   ],
   "source": [
    "RSE = np.sqrt(RSS/(len(X)-2))\n",
    "RSE"
   ]
  },
  {
   "cell_type": "markdown",
   "metadata": {},
   "source": [
    "### Mean Squared Error (MSE)\n",
    "\n",
    "The Mean Squared Error is a common measure used to evaluate the performance of a regression model. It represents the average of the squared differences between the actual and predicted values, providing insight into the model’s overall accuracy.\n",
    "\n",
    "The formula to calculate MSE is: \n",
    "\n",
    "$\n",
    "MSE = {\\frac{\\sum_{i=1}^{n} (y_i - \\hat{y}_i)^2}{n }} = {\\frac{RSS}{n}}\n",
    "$\n",
    "\n",
    "A lower MSE indicates a model that predicts values closer to the actual observations, signaling a better fit. Because MSE squares the errors, it places greater emphasis on larger deviations from the regression line, making it more sensitive to outliers compared to RSE."
   ]
  },
  {
   "cell_type": "code",
   "execution_count": 193,
   "metadata": {},
   "outputs": [
    {
     "data": {
      "text/plain": [
       "37.275132726951995"
      ]
     },
     "execution_count": 193,
     "metadata": {},
     "output_type": "execute_result"
    }
   ],
   "source": [
    "MSE = RSS/len(X)\n",
    "\n",
    "MSE"
   ]
  },
  {
   "cell_type": "markdown",
   "metadata": {},
   "source": [
    "### Confidence Interval \n",
    "\n",
    "SE is used to determine standard error of the estimated coefficients. These standard errors measure the uncertainty in our estimates, allowing us to construct confidence intervals for the true values of these coefficients.\n",
    "\n",
    "It can be calculated as: \n",
    "\n",
    "$\n",
    "SE(\\beta_1) = \\sqrt\\frac{\\frac{1}{n-2}\\sum({y_i} - \\hat{y_i})^2}{\\sum({x_i} - \\bar{x_i})^2} = \\frac{RSE}{\\sqrt{\\sum({x_i} - \\bar{x_i})^2}}\n",
    "$\n",
    "\n",
    "**Confidence Interval for the Slope $\\beta_1$**\n",
    "\n",
    "The formula for a 95% confidence interval for the slope $\\beta_1$ is:\n",
    "\n",
    "$\n",
    "\\beta_1 \\pm 1.96 \\times SE(\\beta_1)\n",
    "$\n",
    "\n",
    "\n",
    "**Interpretation of Confidence Intervals**\n",
    "\n",
    "A 95% confidence interval means that if we were to sample data and fit the linear regression model many times, approximately 95% of those intervals would contain the true value of the coefficient. Narrower confidence intervals indicate more precise estimates of the coefficients.\n",
    "\n",
    "\n"
   ]
  },
  {
   "cell_type": "code",
   "execution_count": 194,
   "metadata": {},
   "outputs": [
    {
     "data": {
      "text/plain": [
       "0.03881827465101879"
      ]
     },
     "execution_count": 194,
     "metadata": {},
     "output_type": "execute_result"
    }
   ],
   "source": [
    "SE_b1 = RSE/ np.sqrt(np.sum((X - X_mean) ** 2))\n",
    "SE_b1"
   ]
  },
  {
   "cell_type": "code",
   "execution_count": 195,
   "metadata": {},
   "outputs": [
    {
     "name": "stdout",
     "output_type": "stream",
     "text": [
      "For each one-unit increase in X, y is expected to increase by somewhere between -0.870775315950327 and -1.0229429525823206 points\n"
     ]
    }
   ],
   "source": [
    "high_slope_confidence = beta_1 + 1.96 * SE_b1\n",
    "low_slope_confidence= beta_1 - 1.96 * SE_b1\n",
    "\n",
    "print(f'For each one-unit increase in X, y is expected to increase by somewhere between {high_slope_confidence} and {low_slope_confidence} points')\n"
   ]
  },
  {
   "cell_type": "markdown",
   "metadata": {},
   "source": [
    "### Hypothesis testing\n",
    "\n",
    "The Standard Error of the slope ${\\beta_1}$ is crucial in hypothesis testing for regression analysis because it quantifies the uncertainty in the estimate of the slope. This uncertainty is used to construct a t-statistic for testing hypotheses about the slope, most commonly to determine whether the slope is significantly different from zero.\n",
    "\n",
    "- Null Hypothesis $(H_0)$: The slope ${\\beta_1 =0}$, meaning that there is no relationship between the predictor and the response variable (the predictor has no effect on the response).\n",
    "- Alternative Hypothesis $(H_A)$: The slope  ${\\beta_1 \\neq 0}$ meaning there is a statistically significant relationship between the predictor and the response variable.\n",
    "\n",
    "This t-statistic measures how many standard errors the estimated slope is away from the null hypothesis value of zero. The larger the t-statistic, the more evidence we have against the null hypothesis.\n",
    "\n",
    "$\n",
    "{t} = \\frac{{\\beta_1}}{SE{\\beta_1}}\n",
    "$"
   ]
  },
  {
   "cell_type": "code",
   "execution_count": 196,
   "metadata": {},
   "outputs": [
    {
     "data": {
      "text/plain": [
       "-24.392097350505853"
      ]
     },
     "execution_count": 196,
     "metadata": {},
     "output_type": "execute_result"
    }
   ],
   "source": [
    "t_stat = beta_1/ SE_b1\n",
    "t_stat"
   ]
  },
  {
   "cell_type": "code",
   "execution_count": null,
   "metadata": {},
   "outputs": [],
   "source": []
  }
 ],
 "metadata": {
  "kernelspec": {
   "display_name": "Python 3 (ipykernel)",
   "language": "python",
   "name": "python3"
  },
  "language_info": {
   "codemirror_mode": {
    "name": "ipython",
    "version": 3
   },
   "file_extension": ".py",
   "mimetype": "text/x-python",
   "name": "python",
   "nbconvert_exporter": "python",
   "pygments_lexer": "ipython3",
   "version": "3.11.7"
  }
 },
 "nbformat": 4,
 "nbformat_minor": 4
}
